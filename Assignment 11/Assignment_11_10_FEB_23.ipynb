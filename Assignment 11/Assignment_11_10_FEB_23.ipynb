{
 "cells": [
  {
   "cell_type": "markdown",
   "id": "395d8405-dffd-4bbd-94e2-4c01c7a79448",
   "metadata": {},
   "source": [
    "### PYTHON ASSIGNMENT - 10 FEB 2023"
   ]
  },
  {
   "cell_type": "markdown",
   "id": "b0b5e03f-5a63-419d-85bc-189c5ce50c89",
   "metadata": {},
   "source": [
    "### Q1. Which function is used to open a file? What are the different modes of opening a file? Explain each mode of file opening."
   ]
  },
  {
   "cell_type": "markdown",
   "id": "107f5165-aa92-4e4c-a2af-95c73c632d6c",
   "metadata": {},
   "source": [
    "The open() function is used to open a file in Python. The different modes in which a file can be opened are:\n",
    "\n",
    "1. 'r' (Read Only): This is the default mode and is used to open the file for reading only. \n",
    "2. 'w' (Write Only): This mode is used to open the file for writing only.\n",
    "3. 't' (Text Mode): This is the default mode and is used to open the file in text mode for reading or writing.\n",
    "4. 'a' (Append Only): This mode is used to open the file for writing only and data is appended to the end of the file.  \n",
    "5. 'b' (Binary Mode): This mode is used to open the file in binary mode for reading or writing.\n",
    "6. 'x' (Exclusive Creation): This mode is used to create a new file for writing only.\n"
   ]
  },
  {
   "cell_type": "markdown",
   "id": "b279c03a-35e2-441e-943f-eb33587eba6b",
   "metadata": {},
   "source": [
    "### Q2. Why close() function is used? Why is it important to close a file?"
   ]
  },
  {
   "cell_type": "markdown",
   "id": "197eb8d2-0d23-4e2c-80ed-3d32adb77a03",
   "metadata": {},
   "source": [
    "The close() function is used to close an open file in Python. Closing a file is important because it frees up the system resources that were being used to access the file. When a file is opened, the system allocates memory and other resources to handle the file. If the file is not closed, these resources will not be released, even after the program that opened the file terminates.\n",
    "\n",
    "1. Closing the file ensures that any changes made to the file during the lifetime of the file object are properly saved to disk. If a file is opened and changes are made to the file but the file is not closed, these changes may be lost.\n",
    "\n",
    "2. Closing a file ensures that the file is not locked and can be accessed by other programs. If a file is opened and not closed, other programs may not be able to access the file until the program that opened the file terminates.\n",
    "\n",
    "3. It is recommended to always close a file after it has been used, to release the resources and prevent potential data loss or corruption. This can be done by using the close() function or using the with statement, which automatically closes the file when the block of code is finished."
   ]
  },
  {
   "cell_type": "markdown",
   "id": "78856ec0-92f8-4fc9-8010-a330b390533c",
   "metadata": {},
   "source": [
    "### Q3. Write a python program to create a text file. Write ‘I want to become a Data Scientist’ in that file. Then close the file. Open this file and read the content of the file."
   ]
  },
  {
   "cell_type": "code",
   "execution_count": 1,
   "id": "cd81e015-b5f6-48d4-a7cf-2b1a6b22866c",
   "metadata": {},
   "outputs": [
    {
     "name": "stdout",
     "output_type": "stream",
     "text": [
      "I want to become a Data Scientist\n"
     ]
    }
   ],
   "source": [
    "# Open the file in write mode\n",
    "with open(\"test.txt\", \"w\") as file:\n",
    "    # Write to the file\n",
    "    file.write(\"I want to become a Data Scientist\")\n",
    "\n",
    "# Open the file in read mode\n",
    "with open(\"test.txt\", \"r\") as file:\n",
    "    # Read the contents of the file\n",
    "    content = file.read()\n",
    "    print(content)\n"
   ]
  },
  {
   "cell_type": "markdown",
   "id": "ae257e47-9214-4ade-a131-768370c412ff",
   "metadata": {},
   "source": [
    "### Q4. Explain the following with python code: read(), readline() and readlines()."
   ]
  },
  {
   "cell_type": "markdown",
   "id": "4b87d291-d6ce-452f-9987-016625d5a273",
   "metadata": {},
   "source": [
    "1. read(): The read() method is used to read the entire contents of a file and return it as a string. If the size parameter is not specified, it will read the entire file.\n",
    "2. readline(): The readline() method is used to read a single line from a file and return it as a string. If the file is large, it can be used in a loop to read the file line by line.\n",
    "3. readlines(): The readlines() method is used to read all the lines of a file and return them as a list of strings."
   ]
  },
  {
   "cell_type": "markdown",
   "id": "67784809-a59c-4457-9409-633b3500d7f2",
   "metadata": {},
   "source": [
    "### Q5. Explain why with statement is used with open(). What is the advantage of using with statement and open() together?"
   ]
  },
  {
   "cell_type": "markdown",
   "id": "05554ed8-e463-4d47-8dbf-990d2211391e",
   "metadata": {},
   "source": [
    "The with statement is used in combination with open() to provide a convenient and safe way to work with files in Python. The with statement automatically takes care of closing the file after the block of code within the with statement has been executed, even if an exception is raised.\n",
    "\n",
    "The advantage of using the with statement and open() together is that it eliminates the need to manually call the close() method on the file object. When a file is opened using the with statement, it is automatically closed when the block of code within the with statement has been executed. This helps to avoid potential issues caused by forgetting to close a file, such as data loss or corruption."
   ]
  },
  {
   "cell_type": "markdown",
   "id": "825428a9-25f0-4bff-ad53-5cc164162014",
   "metadata": {},
   "source": [
    "### Q6. Explain the write() and writelines() functions. Give a suitable example."
   ]
  },
  {
   "cell_type": "markdown",
   "id": "d83b0ab7-b3da-4a95-8779-0f840040e664",
   "metadata": {},
   "source": [
    "write(): The write() method is used to write a string to a file. The string can be any character or a set of characters, including special characters and numbers. The write() method accepts a single string as its argument and writes that string to the file.\n"
   ]
  },
  {
   "cell_type": "code",
   "execution_count": 4,
   "id": "398e2684-ef37-48ce-bd55-222ff8aeb197",
   "metadata": {},
   "outputs": [],
   "source": [
    "# write() :\n",
    "with open(\"test.txt\", \"w\") as file:\n",
    "    # Write a string to the file\n",
    "    file.write(\"Hey, Everyone\")\n"
   ]
  },
  {
   "cell_type": "markdown",
   "id": "7825b6fe-7028-4ecf-8179-09af4fd27105",
   "metadata": {},
   "source": [
    "writelines():The writelines() method is used to write multiple strings to a file. It takes a list of strings as an argument and writes each string in the list to the file."
   ]
  },
  {
   "cell_type": "code",
   "execution_count": 5,
   "id": "0ba5609f-bd90-46c8-bffe-1d1155c256c6",
   "metadata": {},
   "outputs": [],
   "source": [
    "# writelines() :\n",
    "with open(\"test.txt\", \"w\") as file:\n",
    "    # Write multiple strings to the file\n",
    "    file.writelines([\"Hey, Everyone\", \"Whats going on?\"])\n"
   ]
  },
  {
   "cell_type": "markdown",
   "id": "3b9ac0c4-c721-4921-8007-1e7da40e638a",
   "metadata": {},
   "source": [
    "### ** END **"
   ]
  },
  {
   "cell_type": "code",
   "execution_count": null,
   "id": "573e43f9-be7c-4e9e-8006-817397f85e7d",
   "metadata": {},
   "outputs": [],
   "source": []
  }
 ],
 "metadata": {
  "kernelspec": {
   "display_name": "Python 3 (ipykernel)",
   "language": "python",
   "name": "python3"
  },
  "language_info": {
   "codemirror_mode": {
    "name": "ipython",
    "version": 3
   },
   "file_extension": ".py",
   "mimetype": "text/x-python",
   "name": "python",
   "nbconvert_exporter": "python",
   "pygments_lexer": "ipython3",
   "version": "3.10.8"
  }
 },
 "nbformat": 4,
 "nbformat_minor": 5
}
