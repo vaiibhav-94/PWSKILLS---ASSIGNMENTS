{
 "cells": [
  {
   "cell_type": "markdown",
   "id": "89b4b69c-c6e7-42c2-964c-86546827d82e",
   "metadata": {},
   "source": [
    "## Q1. Explain Class and Object with respect to Object-Oriented Programming. Give a suitable example."
   ]
  },
  {
   "cell_type": "markdown",
   "id": "4882354b-6ad9-4c12-8b81-471cea8f7fc2",
   "metadata": {},
   "source": [
    "#### Q1. Explain Class and Object with respect to Object-Oriented Programming. Give a suitable example."
   ]
  },
  {
   "cell_type": "markdown",
   "id": "80a047ad-c481-4d1e-9bb6-ba33b0b492f7",
   "metadata": {},
   "source": [
    "Ans: A Class is a blueprint for creating objects or instances, providing initial values for variables or attributes, and implementations of behavior.\n",
    "\n",
    "An Object is an instance of a Class. It has a state and behavior that is defined by its class. An object can be created by calling a Class constructor. Each object has its own separate copy of the attributes defined in the Class, and its behavior is determined by the methods defined in the Class.\n",
    "\n",
    "Example:\n",
    "Consider a class Person with two attributes name and age, and two methods talk() and setAge()."
   ]
  },
  {
   "cell_type": "code",
   "execution_count": 10,
   "id": "80215cd1-7c61-443e-993a-01b31a918944",
   "metadata": {},
   "outputs": [
    {
     "name": "stdout",
     "output_type": "stream",
     "text": [
      "Hi, I am Virat\n",
      "Hi, I am Rohit\n"
     ]
    }
   ],
   "source": [
    "class Person:\n",
    "  def __init__(self, name, age):\n",
    "    self.name = name\n",
    "    self.age = age\n",
    "\n",
    "  def talk(self):\n",
    "    print(f\"Hi, I am {self.name}\")\n",
    "\n",
    "  def Age(self, age):\n",
    "    self.age = age\n",
    "\n",
    "person1 = Person(\"Virat\", 34)\n",
    "person2 = Person(\"Rohit\", 35)\n",
    "\n",
    "person1.talk()\n",
    "person2.talk()\n"
   ]
  },
  {
   "cell_type": "markdown",
   "id": "31d41dc4-0802-4b3e-92bd-fd3bf1cb1e28",
   "metadata": {},
   "source": [
    "Person is a class, person1 and person2 are objects, name and age are attributes, and talk() and setAge() are methods.\n",
    "The letter f before the string is called an \"f-string\", allows you to embed expressions inside string literals, using {} to denote expressions that will be replaced with their values."
   ]
  },
  {
   "cell_type": "markdown",
   "id": "a7cc7413-36ef-4158-96fa-86bc95dc94b6",
   "metadata": {},
   "source": [
    "#### Q2. Name the four pillars of OOPs."
   ]
  },
  {
   "cell_type": "markdown",
   "id": "7a9a0d6a-8574-4fbb-a3a3-32def5c6d003",
   "metadata": {},
   "source": [
    "A Class is a blueprint for creating objects (instances), providing initial values for state (member variables or attributes), and implementations of behavior (member functions or methods).\n",
    "\n",
    "An Object is an instance of a Class. It has a state and behavior that is defined by its class. An object can be created by calling a Class constructor. Each object has its own separate copy of the attributes defined in the Class, and its behavior is determined by the methods defined in the Class.Ans: The four pillars of object-oriented programming (OOP) are:\n",
    "\n",
    "Abstraction: Abstraction refers to the practice of exposing only the relevant information and hiding the complexity of the implementation. It allows the user to focus on what the object does rather than how it does it.\n",
    "\n",
    "Encapsulation: Encapsulation is the mechanism of wrapping the data (variables) and functions that operate on that data within a single unit or object. This protects the data from accidental corruption and provides a secure way to access the data.\n",
    "\n",
    "Inheritance: Inheritance is a mechanism where a new class can be derived from an existing class. The derived class inherits all the attributes and behaviors of the parent class and can also have its own attributes and behaviors.\n",
    "\n",
    "Polymorphism: Polymorphism is the ability of an object to take on multiple forms. This is achieved in OOP by defining methods with the same name in different classes that are related by inheritance. When a method is called on an object, the correct implementation of that method is executed based on the object's actual class."
   ]
  },
  {
   "cell_type": "markdown",
   "id": "99b6b530-9c0e-48e0-a408-9d0a17123f3c",
   "metadata": {},
   "source": [
    "#### Q3. Explain why the __init__() function is used. Give a suitable example."
   ]
  },
  {
   "cell_type": "markdown",
   "id": "82de1d99-77bc-449a-9534-d7dc3bf4b6fe",
   "metadata": {},
   "source": [
    "Ans: The __init__() function is used in object-oriented programming to initialize the attributes of an object at the time of its creation. It is a special method that is automatically called when an object is created from a class. The __init__() method is also known as a constructor.\n",
    "\n",
    "The __init__() function allows you to set the default values for the object's attributes, perform any initializations, and allocate any required memory when the object is created. The method takes the newly created object as its first argument (usually referred to as self), and additional arguments can be passed to initialize the object's attributes.\n",
    "\n",
    "Example:\n",
    "Consider a class Person that represents a person's name and age. The __init__() function can be used to initialize these attributes when a new object of the Person class is created."
   ]
  },
  {
   "cell_type": "code",
   "execution_count": 11,
   "id": "e22e9d7f-9949-46d1-9f29-d68913e3f97c",
   "metadata": {},
   "outputs": [
    {
     "name": "stdout",
     "output_type": "stream",
     "text": [
      "Rahul\n",
      "30\n"
     ]
    }
   ],
   "source": [
    "class Person:\n",
    "    def __init__(self, name, age):\n",
    "        self.name = name\n",
    "        self.age = age\n",
    "\n",
    "person = Person(\"Rahul\", 30)\n",
    "print(person.name) \n",
    "print(person.age)\n"
   ]
  },
  {
   "cell_type": "markdown",
   "id": "e462799e-aab6-4b4d-944a-53864073ba51",
   "metadata": {},
   "source": [
    "#### Q4. Why self is used in OOPs?"
   ]
  },
  {
   "cell_type": "markdown",
   "id": "f33b55ee-c8c3-49da-880e-36ef572005bc",
   "metadata": {},
   "source": [
    "Ans: In object-oriented programming (OOP), self is used to refer to the instance of the object being manipulated within a method. It is a convention in Python (and some other programming languages) to use self as the first argument in an instance method to refer to the instance of the object.\n",
    "\n",
    "When a method is called on an object, the object is passed as the first argument to the method, and it can be accessed using the self reference. This allows the method to access and modify the object's attributes and perform other operations on the object.\n",
    "\n",
    "For example:"
   ]
  },
  {
   "cell_type": "code",
   "execution_count": 12,
   "id": "5a1a07af-5c2a-479a-b5cb-d2494b139252",
   "metadata": {},
   "outputs": [
    {
     "name": "stdout",
     "output_type": "stream",
     "text": [
      "Virat\n",
      "Anushka\n"
     ]
    }
   ],
   "source": [
    "class Person:\n",
    "    def __init__(self, name, age):\n",
    "        self.name = name\n",
    "        self.age = age\n",
    "        \n",
    "    def set_name(self, name):\n",
    "        self.name = name\n",
    "        \n",
    "    def set_age(self, age):\n",
    "        self.age = age\n",
    "\n",
    "person = Person(\"Virat\", 30)\n",
    "print(person.name)\n",
    "person.set_name(\"Anushka\")\n",
    "print(person.name)\n"
   ]
  },
  {
   "cell_type": "markdown",
   "id": "b845501e-ec9a-422c-b4e7-f3eb8e1860c1",
   "metadata": {},
   "source": [
    "#### Q5. What is inheritance? Give an example for each type of inheritance."
   ]
  },
  {
   "cell_type": "markdown",
   "id": "ba840c16-7f01-4266-a7ab-f52e97e1b14d",
   "metadata": {},
   "source": [
    "Ans: Inheritance is a mechanism in object-oriented programming (OOP) that allows a new class to be derived from an existing class. The derived class inherits all the attributes and behaviors of the parent class and can also have its own attributes and behaviors. Inheritance enables code reuse and makes it easier to create and maintain large, complex systems.\n",
    "\n",
    "There are several types of inheritance, including:\n",
    "\n",
    "1. Single inheritance: Single inheritance is a type of inheritance where a derived class inherits from a single base class.\n",
    "Example:"
   ]
  },
  {
   "cell_type": "code",
   "execution_count": 25,
   "id": "88b87017-e15b-46f4-8ee5-0017fe903107",
   "metadata": {},
   "outputs": [
    {
     "name": "stdout",
     "output_type": "stream",
     "text": [
      "Transportation\n",
      "Truck\n",
      "Goods Transport\n"
     ]
    }
   ],
   "source": [
    "class Vehicles:\n",
    "    def __init__(self, types, category):\n",
    "        self.types = types\n",
    "        self.category = category\n",
    "        \n",
    "    def used_for(self):\n",
    "        print(\"Vehicle used for\")\n",
    "        \n",
    "class Truck(Vehicles):\n",
    "    def __init__(self, company):\n",
    "        Vehicles.__init__(self, \"Transportation\", \"Truck\")\n",
    "        self.company = company \n",
    "        \n",
    "    def used_for(self):\n",
    "        print(\"Goods Transport\")\n",
    "        \n",
    "vehicle = Truck(\"truck\")\n",
    "print(vehicle.types) \n",
    "print(vehicle.category) \n",
    "vehicle.used_for()\n"
   ]
  },
  {
   "cell_type": "code",
   "execution_count": null,
   "id": "d363451a-96c5-4fde-a33f-35a3d241476d",
   "metadata": {},
   "outputs": [],
   "source": []
  },
  {
   "cell_type": "markdown",
   "id": "ee7b4b29-b0c8-4320-bb62-8f43594ed27e",
   "metadata": {},
   "source": [
    "2. Multiple inheritance: Multiple inheritance is a type of inheritance where a derived class inherits from multiple base classes.\n",
    "Example:"
   ]
  },
  {
   "cell_type": "code",
   "execution_count": 29,
   "id": "f1ad8c1e-02a2-4686-a85e-fe197085c06a",
   "metadata": {},
   "outputs": [
    {
     "name": "stdout",
     "output_type": "stream",
     "text": [
      "Transportation\n",
      "Truck\n",
      "True\n",
      "Goods Transport\n"
     ]
    }
   ],
   "source": [
    "class Vehicles:\n",
    "    def __init__(self, types, category):\n",
    "        self.types = types\n",
    "        self.category = category\n",
    "        \n",
    "def used_for(self):\n",
    "        print(\"Vehicle used for\")\n",
    "        \n",
    "class InterStateTransport:\n",
    "    def __init__(self, interstate):\n",
    "        self.interstated = interstate\n",
    "\n",
    "class Truck(Vehicles, InterStateTransport):\n",
    "    def __init__(self, company):\n",
    "        Vehicles.__init__(self, \"Transportation\", \"Truck\")\n",
    "        InterStateTransport.__init__(self, True)\n",
    "        self.company = company\n",
    "                          \n",
    "    def used_for(self):\n",
    "        print(\"Goods Transport\")\n",
    "        \n",
    "vehicle = Truck(\"truck\")\n",
    "print(vehicle.types) \n",
    "print(vehicle.category)\n",
    "print(vehicle.interstated) \n",
    "vehicle.used_for()"
   ]
  },
  {
   "cell_type": "markdown",
   "id": "cce2a477-fd4a-4904-9730-f419b5d11052",
   "metadata": {},
   "source": [
    "3. Multi-level inheritance: Multi-level inheritance is a type of inheritance where a derived class inherits from a base class, which in turn inherits from another base class.\n",
    "Example:"
   ]
  },
  {
   "cell_type": "code",
   "execution_count": 5,
   "id": "90d1fe5a-815b-4828-80b1-e6a160e0aaec",
   "metadata": {},
   "outputs": [
    {
     "name": "stdout",
     "output_type": "stream",
     "text": [
      "Mammal\n",
      "4\n"
     ]
    }
   ],
   "source": [
    "class Animal:\n",
    "    def __init__(self, species, legs):\n",
    "        self.species = species\n",
    "        self.legs = legs\n",
    "        \n",
    "    def make_sound(self):\n",
    "        print(\"Some animal sound\")\n",
    "        \n",
    "class Mammal(Animal):\n",
    "    def __init__(self, fur):\n",
    "        Animal.__init__(self, \"Mammal\", 4)\n",
    "        self.fur = fur\n",
    "        \n",
    "class Dog(Mammal):\n",
    "    def __init__(self, breed):\n",
    "        Mammal.__init__(self, True)\n",
    "        self.breed = breed\n",
    "        \n",
    "    def make_sound(self):\n",
    "        print(\"Bark\")\n",
    "        \n",
    "dog = Dog(\"Labrador\")\n",
    "print(dog.species) \n",
    "print(dog.legs)\n"
   ]
  },
  {
   "cell_type": "code",
   "execution_count": 36,
   "id": "f06b3292-c478-49e7-91a4-02765503412c",
   "metadata": {},
   "outputs": [
    {
     "name": "stdout",
     "output_type": "stream",
     "text": [
      "Truck\n",
      "True\n"
     ]
    }
   ],
   "source": [
    "class Vehicles:\n",
    "    def __init__(self, types, category):\n",
    "        self.types = types\n",
    "        self.category = category\n",
    "        \n",
    "def used_for(self):\n",
    "        print(\"Vehicle used for\")\n",
    "        \n",
    "class National(Vehicles):\n",
    "    def __init__(self, permit):\n",
    "        Vehicles.__init__(self, \"National\", \"Truck\")\n",
    "        self.permit = permit\n",
    "        \n",
    "class Truck(National):\n",
    "    def __init__(self, company):\n",
    "        National.__init__(self, True)\n",
    "        self.company = company\n",
    "        \n",
    "    def used_for(self):\n",
    "        print(\"Vehicle used for\")\n",
    "        \n",
    "vehicle = Truck(\"truck\")\n",
    "print(vehicle.category)\n",
    "print(vehicle.permit)"
   ]
  },
  {
   "cell_type": "markdown",
   "id": "f4777096-b117-420a-8227-122b808b9d5c",
   "metadata": {},
   "source": [
    "#### ** END **"
   ]
  }
 ],
 "metadata": {
  "kernelspec": {
   "display_name": "Python 3 (ipykernel)",
   "language": "python",
   "name": "python3"
  },
  "language_info": {
   "codemirror_mode": {
    "name": "ipython",
    "version": 3
   },
   "file_extension": ".py",
   "mimetype": "text/x-python",
   "name": "python",
   "nbconvert_exporter": "python",
   "pygments_lexer": "ipython3",
   "version": "3.10.8"
  }
 },
 "nbformat": 4,
 "nbformat_minor": 5
}
