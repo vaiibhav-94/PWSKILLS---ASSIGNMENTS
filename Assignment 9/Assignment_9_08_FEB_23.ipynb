{
 "cells": [
  {
   "cell_type": "markdown",
   "id": "f6bbbe01-bf68-4d27-aa80-de5a401d9ed1",
   "metadata": {},
   "source": [
    "### PYTHON ASSIGNMENT - 09 FEB 2023"
   ]
  },
  {
   "cell_type": "markdown",
   "id": "bed58a93-29a0-4d84-87b2-9706363587f6",
   "metadata": {},
   "source": [
    "### Q1. What is Abstraction in OOps? Explain with an example."
   ]
  },
  {
   "cell_type": "markdown",
   "id": "8c845e34-2ea8-4999-9b8f-ae68543cefbc",
   "metadata": {},
   "source": [
    "Abstraction in Object-Oriented Programming (OOP) refers to the concept of hiding the implementation details of an object and presenting only relevant information to the outside world.\n",
    "\n",
    "For example, consider a car object in OOP. The abstraction of a car object could be represented by its properties such as make, model, and year, and methods such as start, stop, and drive. The user of this car object does not need to know the internal workings of the car, such as how the engine starts or how the brakes work. The user only needs to know how to operate the car by using its relevant properties and methods.\n",
    "\n",
    "Abstraction helps in reducing the complexity of an object and makes it easier to use and understand, leading to more organized and efficient code."
   ]
  },
  {
   "cell_type": "markdown",
   "id": "edeb4b38-f8a6-462d-bc9e-c3724d928dcb",
   "metadata": {},
   "source": [
    "### Q2. Differentiate between Abstraction and Encapsulation. Explain with an example."
   ]
  },
  {
   "cell_type": "markdown",
   "id": "9c1cac22-da44-4d7e-9897-6232939b9ae6",
   "metadata": {},
   "source": [
    "Abstraction and Encapsulation are related concepts in Object-Oriented Programming (OOP), but they are different in their nature and purpose.\n",
    "\n",
    "Abstraction refers to the process of hiding the implementation details of an object and presenting only the relevant information to the outside world. It helps in reducing the complexity of an object and making it easier to understand and use.\n",
    "\n",
    "Encapsulation refers to the process of binding data and the methods that operate on that data within a single unit or object. It provides a protective shield to the data of an object and restricts the direct access to the data from outside the object. This helps in ensuring the data integrity and security of an object.\n",
    "\n",
    "For example, consider a bank account object in OOP. The abstraction of the bank account object could be represented by its properties such as account number and balance, and methods such as deposit and withdraw. The user of this bank account object does not need to know the internal workings of how the bank manages the account, such as how the deposit or withdraw methods update the balance.\n",
    "\n",
    "The encapsulation of the bank account object could be achieved by declaring the properties such as account number and balance as private, and providing the methods such as deposit and withdraw as public. This encapsulation ensures that the user can only access the account information through the provided methods and cannot directly access or modify the account number or balance properties.\n",
    "\n",
    "In summary, Abstraction focuses on hiding the implementation details, while Encapsulation focuses on binding the data and methods within a single unit and restricting the direct access to the data."
   ]
  },
  {
   "cell_type": "markdown",
   "id": "78973e87-e97f-42ad-bc60-bef4fdc5b6c1",
   "metadata": {},
   "source": [
    "### Q3. What is abc module in python? Why is it used?"
   ]
  },
  {
   "cell_type": "markdown",
   "id": "01690669-1103-4162-b9b0-d36fa8bf4f3d",
   "metadata": {},
   "source": [
    "The abc module in Python is the Abstract Base Class module. It provides a way to define abstract base classes (ABCs) in Python, which are classes that cannot be instantiated and are meant to be subclassed. ABCs provide a way to specify an interface that must be implemented by its concrete subclasses.\n",
    "\n",
    "The abc module is used for creating abstract base classes in Python, which can be useful in situations where you want to define a common interface for a set of related classes. By defining an ABC, you can enforce that all concrete implementations of the class adhere to a certain interface. This helps in ensuring that the concrete implementations have certain properties, methods, or behaviors and makes it easier to use them interchangeably.\n",
    "\n",
    "For example, you could define an ABC for a data structure that requires the implementation of certain methods, such as push() and pop(), and then have different concrete implementations of the data structure, such as a Stack or Queue, inherit from the ABC and implement the required methods. This helps in ensuring that all implementations of the data structure have the necessary methods and makes it easier to write code that can work with different implementations interchangeably."
   ]
  },
  {
   "cell_type": "markdown",
   "id": "133619b1-3b39-4e5e-800a-0d3825e499ed",
   "metadata": {},
   "source": [
    "### Q4. How can we achieve data abstraction?"
   ]
  },
  {
   "cell_type": "markdown",
   "id": "4bc6e987-6070-44e8-a0e4-a8b295bf800c",
   "metadata": {},
   "source": [
    "Data Abstraction is a technique to hide the internal implementation details of an object and present only the relevant information to the outside world. There are several ways to achieve data abstraction in Object-Oriented Programming (OOP):\n",
    "\n",
    "Encapsulation: This is the process of binding data and the methods that operate on that data within a single unit or object. By encapsulating data within an object, you can restrict direct access to the data from outside the object and ensure data integrity and security.\n",
    "\n",
    "Access Modifiers: Access modifiers such as private, protected, and public can be used to control the accessibility of data members and methods within a class. By declaring data members as private, you can restrict direct access to the data from outside the object, thereby implementing data abstraction.\n",
    "\n",
    "Abstract Classes: Abstract classes are classes that cannot be instantiated and are meant to be subclassed. They provide a way to define an interface that must be implemented by its concrete subclasses. By defining abstract classes and methods, you can enforce a certain interface on the concrete implementations, thereby achieving data abstraction.\n",
    "\n",
    "Interfaces: Interfaces are similar to abstract classes in that they define a set of methods that must be implemented by any class that implements the interface. Interfaces can be used to achieve data abstraction by defining a common interface for a set of related classes.\n",
    "\n",
    "These techniques can be used in combination to achieve data abstraction in OOP and make the code more organized, efficient, and maintainable."
   ]
  },
  {
   "cell_type": "markdown",
   "id": "b2413b5a-1d46-489e-80f5-0c7547e1b159",
   "metadata": {},
   "source": [
    "### Q5. Can we create an instance of an abstract class? Explain your answer."
   ]
  },
  {
   "cell_type": "markdown",
   "id": "e3317063-78d4-4453-b9f1-91f341296347",
   "metadata": {},
   "source": [
    "No, we cannot create an instance of an abstract class. An abstract class is a class that is meant to be subclassed and cannot be instantiated directly.\n",
    "\n",
    "The purpose of an abstract class is to provide a common interface for a set of related classes. By defining an abstract class, you can enforce certain properties, methods, or behaviors that must be present in all concrete implementations of the class. However, an abstract class itself is not a complete implementation, and therefore cannot be instantiated.\n",
    "\n",
    "To use an abstract class, you must create a concrete implementation of the class by subclassing it and providing a concrete implementation for the abstract methods defined in the abstract class. Only then can you create instances of the concrete implementation and use them in your code.\n",
    "\n",
    "In summary, abstract classes are a blueprint for a set of related classes, and cannot be instantiated themselves. To use an abstract class, you must create a concrete implementation by subclassing it and providing concrete implementations for the abstract methods."
   ]
  },
  {
   "cell_type": "code",
   "execution_count": null,
   "id": "b7e24e90-bd6b-45e0-9bec-b0fc94af6558",
   "metadata": {},
   "outputs": [],
   "source": [
    "### ED"
   ]
  }
 ],
 "metadata": {
  "kernelspec": {
   "display_name": "Python 3 (ipykernel)",
   "language": "python",
   "name": "python3"
  },
  "language_info": {
   "codemirror_mode": {
    "name": "ipython",
    "version": 3
   },
   "file_extension": ".py",
   "mimetype": "text/x-python",
   "name": "python",
   "nbconvert_exporter": "python",
   "pygments_lexer": "ipython3",
   "version": "3.10.8"
  }
 },
 "nbformat": 4,
 "nbformat_minor": 5
}
