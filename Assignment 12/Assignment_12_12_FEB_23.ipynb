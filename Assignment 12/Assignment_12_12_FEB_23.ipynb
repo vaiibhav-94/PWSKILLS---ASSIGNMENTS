{
 "cells": [
  {
   "cell_type": "markdown",
   "id": "70b9c10d-7f7b-4bbb-a821-2584c7c77ee9",
   "metadata": {},
   "source": [
    "### PYTHON ASSIGNMENT - 10 FEB 2023"
   ]
  },
  {
   "cell_type": "markdown",
   "id": "c34b5657-406c-4c1b-a238-8dc444b9d94b",
   "metadata": {},
   "source": [
    "### Q1. What is an Exception in python? Write the difference between Exceptions and Syntax errors."
   ]
  },
  {
   "cell_type": "markdown",
   "id": "657abdac-ca70-4775-9e6b-8183c4400150",
   "metadata": {},
   "source": [
    "An exception in Python is an event that occurs during the execution of a program and disrupts the normal flow of the program's instructions. Exceptions are raised when a program encounters an error or unexpected situation that it cannot handle.\n",
    "\n",
    "The difference between exceptions and syntax errors:\n",
    "\n",
    "Syntax errors occur when the code you write is not valid according to the rules of the Python language. For example, forgetting to close a parenthesis, using a variable that has not been defined, or using the wrong number of arguments in a function call are all examples of syntax errors. Syntax errors are detected by the Python interpreter before the program is executed, and they prevent the program from running.\n",
    "\n",
    "Exceptions, occur while the program is running. They are raised when a program encounters an error or unexpected situation that it cannot handle, such as dividing by zero, accessing an out-of-bounds list element, or trying to open a file that doesn't exist. Unlike syntax errors, exceptions can be handled by the program using try-except blocks, allowing the program to continue executing even in the presence of an error."
   ]
  },
  {
   "cell_type": "markdown",
   "id": "0bb6daa4-3604-4545-a990-9b803ec132c9",
   "metadata": {},
   "source": [
    "### Q2. What happens when an exception is not handled? Explain with an example."
   ]
  },
  {
   "cell_type": "markdown",
   "id": "a927ddb1-3738-485a-8b3c-d330c8b06316",
   "metadata": {},
   "source": [
    "When an exception is not handled, the program terminates immediately and generates an unhandled exception error message, also known as a traceback. The traceback provides information about the error, including the type of the exception, the location where it occurred, and the chain of function calls that led to the exception."
   ]
  },
  {
   "cell_type": "code",
   "execution_count": 2,
   "id": "ad1080d5-d8e9-4673-a596-9696ca8a7171",
   "metadata": {},
   "outputs": [
    {
     "ename": "ZeroDivisionError",
     "evalue": "division by zero",
     "output_type": "error",
     "traceback": [
      "\u001b[0;31m---------------------------------------------------------------------------\u001b[0m",
      "\u001b[0;31mZeroDivisionError\u001b[0m                         Traceback (most recent call last)",
      "Cell \u001b[0;32mIn[2], line 7\u001b[0m\n\u001b[1;32m      5\u001b[0m x \u001b[38;5;241m=\u001b[39m \u001b[38;5;241m10\u001b[39m\n\u001b[1;32m      6\u001b[0m y \u001b[38;5;241m=\u001b[39m \u001b[38;5;241m0\u001b[39m\n\u001b[0;32m----> 7\u001b[0m result \u001b[38;5;241m=\u001b[39m \u001b[43mdivide\u001b[49m\u001b[43m(\u001b[49m\u001b[43mx\u001b[49m\u001b[43m,\u001b[49m\u001b[43m \u001b[49m\u001b[43my\u001b[49m\u001b[43m)\u001b[49m\n\u001b[1;32m      8\u001b[0m \u001b[38;5;28mprint\u001b[39m(result)\n",
      "Cell \u001b[0;32mIn[2], line 3\u001b[0m, in \u001b[0;36mdivide\u001b[0;34m(a, b)\u001b[0m\n\u001b[1;32m      2\u001b[0m \u001b[38;5;28;01mdef\u001b[39;00m \u001b[38;5;21mdivide\u001b[39m(a, b):\n\u001b[0;32m----> 3\u001b[0m     \u001b[38;5;28;01mreturn\u001b[39;00m \u001b[43ma\u001b[49m\u001b[43m \u001b[49m\u001b[38;5;241;43m/\u001b[39;49m\u001b[43m \u001b[49m\u001b[43mb\u001b[49m\n",
      "\u001b[0;31mZeroDivisionError\u001b[0m: division by zero"
     ]
    }
   ],
   "source": [
    "# Example\n",
    "def divide(a, b):\n",
    "    return a / b\n",
    "\n",
    "x = 10\n",
    "y = 0\n",
    "result = divide(x, y)\n",
    "print(result)"
   ]
  },
  {
   "cell_type": "markdown",
   "id": "2222cf3c-54e6-4e45-a5df-ee9e73d6c525",
   "metadata": {},
   "source": [
    "The divide function raises a ZeroDivisionError exception when it tries to divide x by y, which is zero. Because the exception is not handled, the program terminates immediately and generates the following traceback:"
   ]
  },
  {
   "cell_type": "markdown",
   "id": "e21e52c5-348c-4710-adae-a98c3b897ecf",
   "metadata": {},
   "source": [
    "### Q3. Which Python statements are used to catch and handle exceptions? Explain with an example."
   ]
  },
  {
   "cell_type": "markdown",
   "id": "fae29ecd-6768-4bbb-8a59-a25dd1404c70",
   "metadata": {},
   "source": [
    "Exceptions are caught and handled using the try and except statements. The basic syntax for handling exceptions"
   ]
  },
  {
   "cell_type": "code",
   "execution_count": 3,
   "id": "6da64e1d-f6da-4eb0-8140-daa52cf65b45",
   "metadata": {},
   "outputs": [
    {
     "name": "stdout",
     "output_type": "stream",
     "text": [
      "Cannot divide by zero.\n"
     ]
    }
   ],
   "source": [
    "try:\n",
    "    x = 10\n",
    "    y = 0\n",
    "    result = x / y\n",
    "except ZeroDivisionError:\n",
    "    print(\"Cannot divide by zero.\")\n"
   ]
  },
  {
   "cell_type": "markdown",
   "id": "e6c9cdd1-2ab7-4845-b138-10f3f75d94f8",
   "metadata": {},
   "source": [
    "The code inside the 'try' block attempts to divide 'x' by 'y', which is zero. If a 'ZeroDivisionError' exception is raised, the code inside the 'except' block is executed, and a message is printed to the user."
   ]
  },
  {
   "cell_type": "markdown",
   "id": "e43ba492-ec7d-4842-b0ec-bbd3f434119d",
   "metadata": {},
   "source": [
    "### Q4. Explain with an example:\n",
    "### a. try and else\n",
    "### b. finally\n",
    "### c. raise"
   ]
  },
  {
   "cell_type": "markdown",
   "id": "78af37dd-07d2-4858-b521-ba63f16bc907",
   "metadata": {},
   "source": [
    "#### a. try and else: We can use the else statement along with the try statement to specify a block of code to be executed if no exceptions are raised in the try block."
   ]
  },
  {
   "cell_type": "code",
   "execution_count": 4,
   "id": "c0358ba1-1163-4c5d-bc0d-341c39a91d52",
   "metadata": {},
   "outputs": [
    {
     "name": "stdout",
     "output_type": "stream",
     "text": [
      "5.0\n"
     ]
    }
   ],
   "source": [
    "try:\n",
    "    x = 10\n",
    "    y = 2\n",
    "    result = x / y\n",
    "except ZeroDivisionError:\n",
    "    print(\"Cannot divide by zero.\")\n",
    "else:\n",
    "    print(result)\n"
   ]
  },
  {
   "cell_type": "markdown",
   "id": "28e2101f-59fd-4efd-94a2-cb01de7b177c",
   "metadata": {},
   "source": [
    "#### b. finally: The finally statement is used to specify a block of code that will be executed regardless of whether an exception was raised or not in the try block."
   ]
  },
  {
   "cell_type": "code",
   "execution_count": 5,
   "id": "4e88aa19-1a64-450e-82ac-d2113916aca8",
   "metadata": {},
   "outputs": [
    {
     "name": "stdout",
     "output_type": "stream",
     "text": [
      "Cannot divide by zero.\n",
      "The operation has finished.\n"
     ]
    }
   ],
   "source": [
    "try:\n",
    "    x = 10\n",
    "    y = 0\n",
    "    result = x / y\n",
    "except ZeroDivisionError:\n",
    "    print(\"Cannot divide by zero.\")\n",
    "finally:\n",
    "    print(\"The operation has finished.\")\n"
   ]
  },
  {
   "cell_type": "markdown",
   "id": "f2cc2f5c-9666-4485-a511-f6c215d7195b",
   "metadata": {},
   "source": [
    "#### c. raise: The raise statement is used to raise an exception manually."
   ]
  },
  {
   "cell_type": "code",
   "execution_count": 6,
   "id": "5ca7e297-82a4-4196-8832-63de83dc1558",
   "metadata": {},
   "outputs": [
    {
     "name": "stdout",
     "output_type": "stream",
     "text": [
      "Cannot divide by zero.\n"
     ]
    }
   ],
   "source": [
    "def divide(a, b):\n",
    "    if b == 0:\n",
    "        raise ZeroDivisionError(\"Cannot divide by zero.\")\n",
    "    return a / b\n",
    "\n",
    "x = 10\n",
    "y = 0\n",
    "try:\n",
    "    result = divide(x, y)\n",
    "except ZeroDivisionError as e:\n",
    "    print(e)\n"
   ]
  },
  {
   "cell_type": "markdown",
   "id": "7f228bd6-81af-4006-be0f-7e8cd678bf8c",
   "metadata": {},
   "source": [
    "### Q5. What are Custom Exceptions in python? Why do we need Custom Exceptions? Explain with an example"
   ]
  },
  {
   "cell_type": "markdown",
   "id": "65bd0d99-6689-4177-82bd-3c145e03dd18",
   "metadata": {},
   "source": [
    "Custom exceptions are user-defined exceptions in Python. They allow developers to raise and catch specific exceptions that are relevant to their application.\n",
    "\n",
    "Uses of Custom Exceptions\n",
    "\n",
    "1. Improving error handling: By raising custom exceptions, you can provide more meaningful error messages to your users, making it easier to debug issues with your code.\n",
    "\n",
    "2. Modularizing error handling: By raising custom exceptions, you can handle errors in a modular and organized manner. For example, you can have a separate exception class for each type of error that your application might encounter."
   ]
  },
  {
   "cell_type": "code",
   "execution_count": 7,
   "id": "4835edda-dc42-41fd-b002-3f4d6fc2e036",
   "metadata": {},
   "outputs": [
    {
     "name": "stdout",
     "output_type": "stream",
     "text": [
      "Age must be at least 18.\n"
     ]
    }
   ],
   "source": [
    "class AgeError(Exception):\n",
    "    pass\n",
    "\n",
    "def check_age(age):\n",
    "    if age < 18:\n",
    "        raise AgeError(\"Age must be at least 18.\")\n",
    "    print(\"Age is valid.\")\n",
    "\n",
    "try:\n",
    "    check_age(17)\n",
    "except AgeError as e:\n",
    "    print(e)\n"
   ]
  },
  {
   "cell_type": "markdown",
   "id": "b8582503-9066-43d7-9773-56c9388d0a2e",
   "metadata": {},
   "source": [
    "we defined a custom exception 'AgeError' which is raised if the user's age is less than 18. The exception is caught by the 'try'...'except' block and the error message is printed."
   ]
  },
  {
   "cell_type": "markdown",
   "id": "cd388928-47f3-4c6b-a278-026735c526c1",
   "metadata": {},
   "source": [
    "### Q6. Create a custom exception, class. Use this, class to handle an exception."
   ]
  },
  {
   "cell_type": "code",
   "execution_count": 8,
   "id": "3b449d23-5686-47dd-b0b4-c8322740ee06",
   "metadata": {},
   "outputs": [
    {
     "name": "stdout",
     "output_type": "stream",
     "text": [
      "Error: Cannot divide by zero.\n"
     ]
    }
   ],
   "source": [
    "class InvalidInputError(Exception):\n",
    "    \"\"\"Custom exception for invalid input values.\"\"\"\n",
    "    pass\n",
    "\n",
    "def divide(a, b):\n",
    "    if b == 0:\n",
    "        raise InvalidInputError(\"Cannot divide by zero.\")\n",
    "    return a / b\n",
    "\n",
    "try:\n",
    "    result = divide(10, 0)\n",
    "except InvalidInputError as e:\n",
    "    print(\"Error:\", e)\n"
   ]
  },
  {
   "cell_type": "markdown",
   "id": "1140e878-247d-49a5-a68a-ee5d9cafdc3a",
   "metadata": {},
   "source": [
    "We have defined a custom exception class 'InvalidInputError' that is raised when the input 'b' to the divide function is equal to zero. This exception is caught in a 'try'...'except' block, and the error message is printed to the user. This way, we can handle exceptions in a more meaningful and customized way."
   ]
  },
  {
   "cell_type": "markdown",
   "id": "b40d5ab6-a586-43e9-9327-806a7f51d08c",
   "metadata": {},
   "source": [
    "### ** END ** "
   ]
  },
  {
   "cell_type": "code",
   "execution_count": null,
   "id": "fa586953-4dd3-4b62-a9a0-5a13690cf4a7",
   "metadata": {},
   "outputs": [],
   "source": []
  }
 ],
 "metadata": {
  "kernelspec": {
   "display_name": "Python 3 (ipykernel)",
   "language": "python",
   "name": "python3"
  },
  "language_info": {
   "codemirror_mode": {
    "name": "ipython",
    "version": 3
   },
   "file_extension": ".py",
   "mimetype": "text/x-python",
   "name": "python",
   "nbconvert_exporter": "python",
   "pygments_lexer": "ipython3",
   "version": "3.10.8"
  }
 },
 "nbformat": 4,
 "nbformat_minor": 5
}
